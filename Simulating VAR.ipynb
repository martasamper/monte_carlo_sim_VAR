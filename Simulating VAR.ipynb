{
 "cells": [
  {
   "cell_type": "markdown",
   "metadata": {},
   "source": [
    "### Simple Primer on Monte Carlo Simulation of VAR ###"
   ]
  },
  {
   "cell_type": "markdown",
   "metadata": {},
   "source": [
    "If you recall the basics of the notebook where we provided an introduction on market risk measures and VAR, you will recall that parametric VAR simply assumes a distribution and uses the first two moments (mean and standard deviation) to compute the VAR; whereas for historical VAR, you use the actual historical data and use the specific datapoint(or interpolated values between 2 datapoints) for the confidence level."
   ]
  },
  {
   "cell_type": "markdown",
   "metadata": {},
   "source": [
    "VAR can also be computed via simulation. Which is a good way to provide a quick introduction to Monte Carlo simulation."
   ]
  },
  {
   "cell_type": "markdown",
   "metadata": {},
   "source": [
    "Simulated VAR at its core is quite simple. You basically take the moments (say mean and standard deviation if you assume a normal distribution), generate a simulated set of data with Monte Carlo simulation, and then get the required percentile. What this means is that we could also assume a non-normal distribution, say a t-distribution, and use that for simulation and to compute VAR."
   ]
  },
  {
   "cell_type": "markdown",
   "metadata": {},
   "source": [
    "First, let's get data from Quandl again."
   ]
  },
  {
   "cell_type": "code",
   "execution_count": 1,
   "metadata": {
    "collapsed": true
   },
   "outputs": [],
   "source": [
    "import pandas as pd\n",
    "import numpy as np\n",
    "import datetime\n",
    "from scipy import stats\n",
    "import quandl\n",
    "quandl.ApiConfig.api_key = \"\""
   ]
  },
  {
   "cell_type": "code",
   "execution_count": 2,
   "metadata": {
    "collapsed": true
   },
   "outputs": [],
   "source": [
    "end = datetime.datetime.now()\n",
    "start = end - datetime.timedelta(365)\n",
    "AAPL = quandl.get('EOD/AAPL', start_date=start, end_date=end)"
   ]
  },
  {
   "cell_type": "code",
   "execution_count": 3,
   "metadata": {
    "collapsed": true
   },
   "outputs": [],
   "source": [
    "rets_1 = (AAPL['Close']/AAPL['Close'].shift(1))-1"
   ]
  },
  {
   "cell_type": "code",
   "execution_count": 4,
   "metadata": {},
   "outputs": [
    {
     "name": "stdout",
     "output_type": "stream",
     "text": [
      "0.0016208298475378427 0.013753943856014762 -2.32634787404 220.79\n"
     ]
    }
   ],
   "source": [
    "mean = np.mean(rets_1)\n",
    "std = np.std(rets_1)\n",
    "Z_99 = stats.norm.ppf(1-0.99)\n",
    "price = AAPL.iloc[-1]['Close']\n",
    "print(mean, std, Z_99, price)"
   ]
  },
  {
   "cell_type": "markdown",
   "metadata": {},
   "source": [
    "Now, let's compute the parametric and historical VAR numbers so we have a basis for comparison."
   ]
  },
  {
   "cell_type": "code",
   "execution_count": 5,
   "metadata": {},
   "outputs": [
    {
     "name": "stdout",
     "output_type": "stream",
     "text": [
      "Parametric VAR is -7.064 and Historical VAR is -6.166\n"
     ]
    }
   ],
   "source": [
    "ParamVAR = price*Z_99*std\n",
    "HistVAR = price*np.percentile(rets_1.dropna(), 1)\n",
    "\n",
    "print('Parametric VAR is {0:.3f} and Historical VAR is {1:.3f}'\n",
    "      .format(ParamVAR, HistVAR))"
   ]
  },
  {
   "cell_type": "markdown",
   "metadata": {},
   "source": [
    "For Monte Carlo simulation, we simply apply a simulation using the assumptions of normality, and the mean and std computed above."
   ]
  },
  {
   "cell_type": "code",
   "execution_count": 6,
   "metadata": {},
   "outputs": [
    {
     "name": "stdout",
     "output_type": "stream",
     "text": [
      "Simulated VAR is  -6.7185294884\n"
     ]
    }
   ],
   "source": [
    "np.random.seed(42)\n",
    "n_sims = 1000000\n",
    "sim_returns = np.random.normal(mean, std, n_sims)\n",
    "SimVAR = price*np.percentile(sim_returns, 1)\n",
    "print('Simulated VAR is ', SimVAR)"
   ]
  }
 ],
 "metadata": {
  "kernelspec": {
   "display_name": "Python [default]",
   "language": "python",
   "name": "python3"
  },
  "language_info": {
   "codemirror_mode": {
    "name": "ipython",
    "version": 3
   },
   "file_extension": ".py",
   "mimetype": "text/x-python",
   "name": "python",
   "nbconvert_exporter": "python",
   "pygments_lexer": "ipython3",
   "version": "3.5.3"
  }
 },
 "nbformat": 4,
 "nbformat_minor": 2
}
